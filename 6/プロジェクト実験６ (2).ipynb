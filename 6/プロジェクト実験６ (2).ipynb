{
  "nbformat": 4,
  "nbformat_minor": 0,
  "metadata": {
    "colab": {
      "name": "プロジェクト実験６.ipynb",
      "provenance": [],
      "collapsed_sections": []
    },
    "kernelspec": {
      "name": "python3",
      "display_name": "Python 3"
    },
    "language_info": {
      "name": "python"
    },
    "accelerator": "GPU"
  },
  "cells": [
    {
      "cell_type": "code",
      "metadata": {
        "colab": {
          "base_uri": "https://localhost:8080/"
        },
        "id": "qQmFdhwEQbwZ",
        "outputId": "afa5f147-c327-4308-8170-af01a17e439f"
      },
      "source": [
        "from google.colab import drive\n",
        "drive.mount('/content/drive')"
      ],
      "execution_count": 150,
      "outputs": [
        {
          "output_type": "stream",
          "name": "stdout",
          "text": [
            "Drive already mounted at /content/drive; to attempt to forcibly remount, call drive.mount(\"/content/drive\", force_remount=True).\n"
          ]
        }
      ]
    },
    {
      "cell_type": "code",
      "metadata": {
        "id": "pFvYwsD1RdP1"
      },
      "source": [
        "# !cp drive/MyDrive/rps333.zip .\n",
        "# !unzip rps333"
      ],
      "execution_count": 151,
      "outputs": []
    },
    {
      "cell_type": "code",
      "metadata": {
        "id": "lXfO1cRRjBDW"
      },
      "source": [
        "import tensorflow as tf\n",
        "import numpy as np\n",
        "import matplotlib.pyplot as plt\n",
        "from tensorflow.keras.layers import *"
      ],
      "execution_count": 152,
      "outputs": []
    },
    {
      "cell_type": "code",
      "metadata": {
        "id": "XqBVFPchmBS8"
      },
      "source": [
        "def plot_result(history):\n",
        "  loss = history.history['loss']\n",
        "  accuracy = history.history['accuracy']\n",
        "  epochs = len(loss)\n",
        "  plt.figure(figsize=(10,5))\n",
        "  plt.subplot(1,2,1)\n",
        "  plt.plot(range(1,epochs+1), loss, label='train') \n",
        "  plt.xlabel('epochs')\n",
        "  plt.ylabel('loss')\n",
        "  plt.xlim(0,epochs)\n",
        "  plt.ylim(0)\n",
        "  plt.grid()\n",
        "  plt.subplot(1,2,2)\n",
        "  plt.plot(range(1,epochs+1), accuracy, label='train') \n",
        "  plt.xlabel('epochs')\n",
        "  plt.ylabel('accuracy')\n",
        "  plt.xlim(0,epochs)\n",
        "  plt.ylim(0,1)\n",
        "  plt.grid()\n",
        "  plt.tight_layout()\n",
        "  plt.savefig('loss-accuracy.png')"
      ],
      "execution_count": 153,
      "outputs": []
    },
    {
      "cell_type": "code",
      "metadata": {
        "id": "ONMu6kh4nntO"
      },
      "source": [
        "dir_train, dir_test = 'train', 'test'\n",
        "drive = 'drive/MyDrive'\n",
        "shape = (32,32,3)\n",
        "B = 256"
      ],
      "execution_count": 154,
      "outputs": []
    },
    {
      "cell_type": "code",
      "metadata": {
        "id": "fDS-3LC4nvkC",
        "colab": {
          "base_uri": "https://localhost:8080/"
        },
        "outputId": "0cfa7baf-52b2-4bf4-f0c4-7536802ea1f6"
      },
      "source": [
        "data_gen = tf.keras.preprocessing.image.ImageDataGenerator( rescale=1./255, rotation_range= 20,width_shift_range=0.4)\n",
        "ds_train = data_gen.flow_from_directory(dir_train, shuffle=True, seed=0, target_size=shape[:2], batch_size=B, class_mode='sparse')\n",
        "\n",
        "data_gen = tf.keras.preprocessing.image.ImageDataGenerator( rescale=1./255,  rotation_range= 20,width_shift_range=0.4)\n",
        "ds_test = data_gen.flow_from_directory(dir_test, shuffle=True, seed=0, target_size=shape[:2], batch_size=B, class_mode='sparse')"
      ],
      "execution_count": 155,
      "outputs": [
        {
          "output_type": "stream",
          "name": "stdout",
          "text": [
            "Found 979 images belonging to 3 classes.\n",
            "Found 942 images belonging to 3 classes.\n"
          ]
        }
      ]
    },
    {
      "cell_type": "code",
      "metadata": {
        "id": "oMV06YHCmfWi"
      },
      "source": [
        "def make_model(shape):\n",
        "    model = tf.keras.models.Sequential([\n",
        "    Conv2D(32,(3,3),padding='same', input_shape=shape, activation='relu'),\n",
        "    MaxPool2D(pool_size=(2,2)),\n",
        "    Dropout(0.25),\n",
        "    Conv2D(64,(3,3),padding='same', input_shape=shape, activation='relu'),\n",
        "    MaxPool2D(pool_size=(2,2)),\n",
        "    Dropout(0.25),\n",
        "    Conv2D(128,(3,3),padding='same', input_shape=shape, activation='relu'),\n",
        "    MaxPool2D(pool_size=(2,2)),\n",
        "    Conv2D(128,(3,3),padding='same', input_shape=shape, activation='relu'),\n",
        "\n",
        "    Flatten(),\n",
        "\n",
        "    Dense(3, activation='softmax'),\n",
        "\n",
        "\n",
        "\n",
        "\n",
        "# Conv2D(64, (3,3), padding='same',\n",
        "# input_shape=(32,32,3), activation='relu'),\n",
        "# Conv2D(64,(3,3), padding='same', activation='relu'),\n",
        "# MaxPool2D(pool_size=(2,2)),\n",
        "# Dropout(0.25),\n",
        "# Conv2D(128, (3,3), padding='same', activation='relu'),\n",
        "# Conv2D(128, (3,3), padding='same', activation='relu'),\n",
        "# MaxPool2D(pool_size=(2,2)),\n",
        "# Dropout(0.25),\n",
        "# Flatten(),\n",
        "# Dense(512, activation='relu'),\n",
        "# Dropout(0.5),\n",
        "# Dense(10, activation='softmax')\n",
        "\n",
        "    \n",
        "    ])\n",
        " \n",
        "    return model"
      ],
      "execution_count": 156,
      "outputs": []
    },
    {
      "cell_type": "code",
      "metadata": {
        "id": "UV0T-G1jn5nI",
        "colab": {
          "base_uri": "https://localhost:8080/"
        },
        "outputId": "418ff17e-41b7-424b-b7bb-2770eca934d2"
      },
      "source": [
        "model = make_model(shape) \n",
        "model.compile(optimizer='adam', metrics=['accuracy'],\n",
        "loss='sparse_categorical_crossentropy')\n",
        "\n",
        "history = model.fit(ds_train, steps_per_epoch=ds_train.samples//B, epochs=64)\n",
        "plot_result(history)\n",
        "\n",
        "model.save(f'{drive}/rps.h5')\n",
        "\n",
        "loss, accuracy = model.evaluate(ds_test)\n",
        "print(f'TEST: loss:{loss:.4f} accuracy:{accuracy:.4f}')\n",
        "\n",
        "# TEST: loss:2.7661 accuracy:0.6369"
      ],
      "execution_count": null,
      "outputs": [
        {
          "output_type": "stream",
          "name": "stdout",
          "text": [
            "Epoch 1/64\n",
            "1/3 [=========>....................] - ETA: 6s - loss: 1.1284 - accuracy: 0.2734"
          ]
        }
      ]
    }
  ]
}